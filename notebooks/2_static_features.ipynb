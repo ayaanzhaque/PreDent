{
 "cells": [
  {
   "cell_type": "markdown",
   "metadata": {},
   "source": [
    "# Prepare Static Features\n",
    "In addition to weather, and potential other dynamic data feeds, this notebook computes the static features. These include information about the roads that doesn't change very often. This is mostly things like the shape of the road, the population density around the road, locations of intersections, etc."
   ]
  },
  {
   "cell_type": "code",
   "execution_count": 1,
   "metadata": {
    "collapsed": true
   },
   "outputs": [],
   "source": [
    "import arcpy\n",
    "import os"
   ]
  },
  {
   "cell_type": "markdown",
   "metadata": {},
   "source": [
    "We will start by creating our gdb."
   ]
  },
  {
   "cell_type": "code",
   "execution_count": 2,
   "metadata": {
    "collapsed": true
   },
   "outputs": [],
   "source": [
    "if not os.path.exists('utah.gdb'):\n",
    "    arcpy.management.CreateFileGDB('.','utah.gdb')\n",
    "\n",
    "# workspace\n",
    "arcpy.env.workspace = r'./utah.gdb'\n",
    "arcpy.env.overwriteOutput = True"
   ]
  },
  {
   "cell_type": "markdown",
   "metadata": {},
   "source": [
    "## Define data URLs/Paths"
   ]
  },
  {
   "cell_type": "code",
   "execution_count": 3,
   "metadata": {
    "collapsed": true
   },
   "outputs": [],
   "source": [
    "# AADT, Intersections, Billboards\n",
    "aadt_url = 'https://services1.arcgis.com/MdyCMZnX1raZ7TS3/arcgis/rest/services/Utah_AADT_2013/FeatureServer/0'\n",
    "intersections_url = 'https://maps.udot.utah.gov/arcgis/rest/services/FI_Mandli2012/MapServer/5'\n",
    "billboards_url = 'https://maps.udot.utah.gov/arcgis/rest/services/FI_Mandli2012/MapServer/2'\n",
    "signals_url = 'https://maps.udot.utah.gov/arcgis/rest/services/FI_Mandli2012/MapServer/14'\n",
    "\n",
    "population_url = 'http://services2.arcgis.com/gyfpgFh2Wj2gglYD/arcgis/rest/services/Census2010/FeatureServer/1'\n",
    "\n",
    "collisions_csv = r'Utah crashes_2010-2017.csv'\n",
    "weather_stations_csv = 'utah_stations.csv'\n",
    "\n",
    "# Roads data\n",
    "major_roads = 'http://services1.arcgis.com/99lidPhWCzftIe9K/arcgis/rest/services/Utah_Major_Road_Centerlines_(Statewide)/FeatureServer/0'\n",
    "minor_roads = 'http://services1.arcgis.com/99lidPhWCzftIe9K/arcgis/rest/services/Utah_SGID_Road_Centerlines_(Statewide)/FeatureServer/0'"
   ]
  },
  {
   "cell_type": "markdown",
   "metadata": {},
   "source": [
    "## Copy the road features into GDB"
   ]
  },
  {
   "cell_type": "code",
   "execution_count": 4,
   "metadata": {
    "collapsed": true
   },
   "outputs": [],
   "source": [
    "# Copy the major road centerlines to the gdb\n",
    "_ = arcpy.management.CopyFeatures(in_features=major_roads,out_feature_class='centerlines')"
   ]
  },
  {
   "cell_type": "code",
   "execution_count": 5,
   "metadata": {
    "collapsed": true
   },
   "outputs": [],
   "source": [
    "# Join AADT - simple process of joining centerline to the nearest segment. This has the possibility of being incorrect, but should be mostly accurate.\n",
    "_ = arcpy.analysis.SpatialJoin('centerlines',\n",
    "                           aadt_url,\n",
    "                           'centerlines_aadt',\n",
    "                           match_option='closest',\n",
    "                           search_radius='200 feet')"
   ]
  },
  {
   "cell_type": "code",
   "execution_count": 6,
   "metadata": {
    "collapsed": true
   },
   "outputs": [],
   "source": [
    "# Delete identical roads. Sometimes the roads have the exact same polyline, keeping these will lower the accuracy of the model\n",
    "# And there isn't really a distinction anyway.\n",
    "_ = arcpy.management.DeleteIdentical('centerlines_aadt',xy_tolerance='1 feet',fields=['SHAPE'])"
   ]
  },
  {
   "cell_type": "code",
   "execution_count": 7,
   "metadata": {
    "collapsed": true
   },
   "outputs": [],
   "source": [
    "# Rename some fields for convenience\n",
    "_ = arcpy.management.DeleteField('centerlines_aadt',['route_id','Shape_Leng','OBJECTID_12'])\n",
    "_ = arcpy.management.AlterField('centerlines_aadt','aadt_vn','aadt',clear_field_alias=True)"
   ]
  },
  {
   "cell_type": "markdown",
   "metadata": {},
   "source": [
    "# Merge major/minor roads"
   ]
  },
  {
   "cell_type": "code",
   "execution_count": 8,
   "metadata": {
    "collapsed": true
   },
   "outputs": [],
   "source": [
    "# Merge minor roads. We seperate these steps because we don't have AADT for minor roads.\n",
    "_ = arcpy.management.Merge(['centerlines_aadt',minor_roads],'centerlines_merged')"
   ]
  },
  {
   "cell_type": "markdown",
   "metadata": {},
   "source": [
    "## Rename/Delete Fields"
   ]
  },
  {
   "cell_type": "code",
   "execution_count": 9,
   "metadata": {},
   "outputs": [
    {
     "name": "stdout",
     "output_type": "stream",
     "text": [
      "['OBJECTID_1', 'Shape', 'Join_Count', 'TARGET_FID', 'OBJECTID', 'ADDR_SYS', 'CARTOCODE', 'FULLNAME', 'L_F_ADD', 'L_T_ADD', 'R_F_ADD', 'R_T_ADD', 'PREDIR', 'STREETNAME', 'STREETTYPE', 'SUFDIR', 'ALIAS1', 'ALIAS1TYPE', 'ALIAS2', 'ALIAS2TYPE', 'ACSALIAS', 'ACSNAME', 'ACSSUF', 'ADDR_QUAD', 'USPS_PLACE', 'ZIPLEFT', 'ZIPRIGHT', 'COFIPS', 'ONEWAY', 'SPEED', 'VERTLEVEL', 'CLASS', 'HWYNAME', 'DOT_RTNAME', 'DOT_RTPART', 'DOT_F_MILE', 'DOT_T_MILE', 'MODIFYDATE', 'GLOBALID', 'COLLDATE', 'ACCURACY', 'SOURCE', 'NOTES', 'COUNIQUE', 'SURFTYPE', 'SURFWIDTH', 'DSTRBWIDTH', 'LOCALFUNC', 'MAINTJURIS', 'FED_RDID', 'STATUS', 'ACCESS', 'USAGENOTES', 'DOT_RTID', 'DOT_FUNC', 'DOT_COFUND', 'LOCALID', 'aadt', 'Shape_Length']\n"
     ]
    }
   ],
   "source": [
    "print([f.name for f in arcpy.ListFields('centerlines_merged')])"
   ]
  },
  {
   "cell_type": "code",
   "execution_count": 10,
   "metadata": {
    "collapsed": true
   },
   "outputs": [],
   "source": [
    "# Fields we don't need in the centerlines dataset for this\n",
    "delete_fields = [\n",
    "    'ADDR_SYS',\n",
    "    'CARTOCODE',\n",
    "    'FULLNAME',\n",
    "    'L_F_ADD',\n",
    "    'L_T_ADD',\n",
    "    'R_F_ADD',\n",
    "    'R_T_ADD',\n",
    "    'STREETNAME',\n",
    "    'ALIAS1',\n",
    "    'ALIAS1TYPE',\n",
    "    'ALIAS2',\n",
    "    'ALIAS2TYPE',\n",
    "    'ACSALIAS',\n",
    "    'ACSNAME',\n",
    "    'ACSSUF',\n",
    "    'ADDR_QUAD',\n",
    "    'USPS_PLACE', \n",
    "    'ZIPLEFT', \n",
    "    'ZIPRIGHT', \n",
    "    'COFIPS',\n",
    "    'VERTLEVEL', \n",
    "    'CLASS', \n",
    "    'HWYNAME', \n",
    "    'DOT_RTNAME',\n",
    "    'DOT_RTPART',\n",
    "    'DOT_F_MILE', \n",
    "    'DOT_T_MILE', \n",
    "    'MODIFYDATE',\n",
    "    'GLOBALID', \n",
    "    'COLLDATE', \n",
    "    'ACCURACY', \n",
    "    'SOURCE', \n",
    "    'NOTES', \n",
    "    'COUNIQUE', \n",
    "    'DSTRBWIDTH', \n",
    "    'LOCALFUNC',\n",
    "    'MAINTJURIS', \n",
    "    'FED_RDID', \n",
    "    'STATUS', \n",
    "    'ACCESS', \n",
    "    'USAGENOTES',\n",
    "    'DOT_RTID',\n",
    "    'DOT_FUNC', \n",
    "    'DOT_COFUND',\n",
    "    'LOCALID'\n",
    "]\n",
    "field_remap = {\n",
    "    'PREDIR':'pre_dir',\n",
    "    'STREETTYPE':'street_type',\n",
    "    'SUFDIR':'suf_dir',\n",
    "    'ONEWAY':'one_way',\n",
    "    'SPEED':'speed_limit',\n",
    "    'SURFTYPE':'surface_type',\n",
    "    'SURFWIDTH':'surface_width'\n",
    "}\n",
    "_ = arcpy.management.DeleteField('centerlines_merged',delete_fields)\n",
    "for field_name,remap_name in field_remap.items():\n",
    "    arcpy.management.AlterField('centerlines_merged',field_name,remap_name,clear_field_alias=True)"
   ]
  },
  {
   "cell_type": "code",
   "execution_count": 11,
   "metadata": {},
   "outputs": [
    {
     "name": "stdout",
     "output_type": "stream",
     "text": [
      "['OBJECTID_1', 'Shape', 'Join_Count', 'TARGET_FID', 'OBJECTID', 'pre_dir', 'street_type', 'suf_dir', 'one_way', 'speed_limit', 'surface_type', 'surface_width', 'aadt', 'Shape_Length']\n"
     ]
    }
   ],
   "source": [
    "print([f.name for f in arcpy.ListFields('centerlines_merged')])"
   ]
  },
  {
   "cell_type": "markdown",
   "metadata": {},
   "source": [
    "We will reference *segment_id* as the unique identifier for a road segment"
   ]
  },
  {
   "cell_type": "code",
   "execution_count": 12,
   "metadata": {
    "collapsed": true
   },
   "outputs": [],
   "source": [
    "# Add a segment_id field to use instead of OBJECTID_1\n",
    "_ = arcpy.management.AddField('centerlines_merged','segment_id','Long')\n",
    "_ = arcpy.management.CalculateField('centerlines_merged','segment_id','!OBJECTID_1!')"
   ]
  },
  {
   "cell_type": "markdown",
   "metadata": {},
   "source": [
    "# Road Segment Spatial Features\n",
    "There are several fields to add to the data to enrich. Some will be calculated off of the geometries, some off of proximity to features in other datasets"
   ]
  },
  {
   "cell_type": "code",
   "execution_count": 13,
   "metadata": {
    "collapsed": true
   },
   "outputs": [],
   "source": [
    "# Now we add some calculated fields:\n",
    "\n",
    "fields = [\n",
    "    ['sinuosity','Double'],\n",
    "    ['euclidean_length','Double'],\n",
    "    ['segment_length','Double'],\n",
    "    ['at_intersection','Short'],\n",
    "    ['near_billboard','Short'],\n",
    "    ['road_orient_approx','Double'],\n",
    "    ['proximity_to_signal','Double'],\n",
    "    ['proximity_to_billboard','Double'],\n",
    "    ['proximity_to_nearest_intersection','Double'],\n",
    "    ['proximity_to_major_road','Double']\n",
    "]\n",
    "\n",
    "_ = arcpy.management.AddFields('centerlines_merged',fields)"
   ]
  },
  {
   "cell_type": "code",
   "execution_count": 14,
   "metadata": {
    "collapsed": true
   },
   "outputs": [],
   "source": [
    "# Calc Sinuosity\n",
    "code_block = \\\n",
    "'''\n",
    "import math\n",
    "def getSinuosity(shp):\n",
    "    x0 = shp.firstPoint.x\n",
    "    y0 = shp.firstPoint.y\n",
    "    x1 = shp.lastPoint.x\n",
    "    y1 = shp.lastPoint.y\n",
    "\n",
    "    euclid = math.sqrt((x0-x1)**2 + (y0-y1)**2)\n",
    "    length = shp.length\n",
    "    if euclid > 0:\n",
    "        return length/euclid\n",
    "    return 1.0\n",
    "'''\n",
    "_ = arcpy.management.CalculateField('centerlines_merged','sinuosity','getSinuosity(!Shape!)',code_block=code_block)"
   ]
  },
  {
   "cell_type": "code",
   "execution_count": 15,
   "metadata": {
    "collapsed": true
   },
   "outputs": [],
   "source": [
    "# Calc Euclidean Length\n",
    "code_block = \\\n",
    "'''\n",
    "import math\n",
    "def getEuclideanLength(shp):\n",
    "    x0 = shp.firstPoint.x\n",
    "    y0 = shp.firstPoint.y\n",
    "    x1 = shp.lastPoint.x\n",
    "    y1 = shp.lastPoint.y\n",
    "\n",
    "    euclid = math.sqrt((x0-x1)**2 + (y0-y1)**2)\n",
    "    return euclid\n",
    "'''\n",
    "_ = arcpy.management.CalculateField('centerlines_merged','euclidean_length','getEuclideanLength(!Shape!)',code_block=code_block)"
   ]
  },
  {
   "cell_type": "code",
   "execution_count": 16,
   "metadata": {
    "collapsed": true
   },
   "outputs": [],
   "source": [
    "# Calc segment_length\n",
    "_ = arcpy.management.CalculateField('centerlines_merged','segment_length','!Shape_Length!')"
   ]
  },
  {
   "cell_type": "code",
   "execution_count": 17,
   "metadata": {
    "collapsed": true
   },
   "outputs": [],
   "source": [
    "# Calc Road Orientation\n",
    "code_block = \\\n",
    "'''\n",
    "import math\n",
    "def getOrientation(shp):\n",
    "    x0 = shp.firstPoint.x\n",
    "    y0 = shp.firstPoint.y\n",
    "    x1 = shp.lastPoint.x\n",
    "    y1 = shp.lastPoint.y\n",
    "\n",
    "    angle = math.atan2(y1-y0,x1-x0)\n",
    "    if angle < 0:\n",
    "        angle += math.pi\n",
    "    return angle\n",
    "'''\n",
    "_ = arcpy.management.CalculateField('centerlines_merged','road_orient_approx','getOrientation(!Shape!)',code_block=code_block)"
   ]
  },
  {
   "cell_type": "code",
   "execution_count": 18,
   "metadata": {
    "collapsed": true
   },
   "outputs": [],
   "source": [
    "# Calc at_intersection\n",
    "_ = arcpy.analysis.Near('centerlines_merged',\n",
    "                        intersections_url,\n",
    "                        search_radius='150 feet')\n",
    "_ = arcpy.management.CalculateField('centerlines_merged','at_intersection','!NEAR_DIST! >= 0')\n",
    "_ = arcpy.management.DeleteField('centerlines_merged',['NEAR_DIST','NEAR_FID'])"
   ]
  },
  {
   "cell_type": "code",
   "execution_count": 19,
   "metadata": {
    "collapsed": true
   },
   "outputs": [],
   "source": [
    "# Calc proximity to intersection\n",
    "_ = arcpy.analysis.Near('centerlines_merged',\n",
    "                        intersections_url)\n",
    "_ = arcpy.management.CalculateField('centerlines_merged','proximity_to_nearest_intersection','!NEAR_DIST!')\n",
    "_ = arcpy.management.DeleteField('centerlines_merged',['NEAR_DIST','NEAR_FID'])"
   ]
  },
  {
   "cell_type": "code",
   "execution_count": 20,
   "metadata": {
    "collapsed": true
   },
   "outputs": [],
   "source": [
    "# Calc near_billboard\n",
    "_ = arcpy.analysis.Near('centerlines_merged',\n",
    "                        billboards_url,\n",
    "                        search_radius='300 feet')\n",
    "_ = arcpy.management.CalculateField('centerlines_merged','near_billboard','!NEAR_DIST! >= 0')\n",
    "_ = arcpy.management.DeleteField('centerlines_merged',['NEAR_DIST','NEAR_FID'])"
   ]
  },
  {
   "cell_type": "code",
   "execution_count": 21,
   "metadata": {
    "collapsed": true
   },
   "outputs": [],
   "source": [
    "# Calc proximity to billboard\n",
    "_ = arcpy.analysis.Near('centerlines_merged',\n",
    "                        billboards_url)\n",
    "_ = arcpy.management.CalculateField('centerlines_merged','proximity_to_billboard','!NEAR_DIST!')\n",
    "_ = arcpy.management.DeleteField('centerlines_merged',['NEAR_DIST','NEAR_FID'])"
   ]
  },
  {
   "cell_type": "code",
   "execution_count": 22,
   "metadata": {
    "collapsed": true
   },
   "outputs": [],
   "source": [
    "# Calc proximity_to_signal\n",
    "_ = arcpy.analysis.Near('centerlines_merged',\n",
    "                        signals_url)\n",
    "_ = arcpy.management.CalculateField('centerlines_merged','proximity_to_signal','!NEAR_DIST!')\n",
    "_ = arcpy.management.DeleteField('centerlines_merged',['NEAR_DIST','NEAR_FID'])"
   ]
  },
  {
   "cell_type": "code",
   "execution_count": 23,
   "metadata": {
    "collapsed": true
   },
   "outputs": [],
   "source": [
    "# Calc proximity_to_major_road\n",
    "_ = arcpy.analysis.Near('centerlines_merged',\n",
    "                        'centerlines')\n",
    "_ = arcpy.management.CalculateField('centerlines_merged','proximity_to_major_road','!NEAR_DIST!')\n",
    "_ = arcpy.management.DeleteField('centerlines_merged',['NEAR_DIST','NEAR_FID'])"
   ]
  },
  {
   "cell_type": "code",
   "execution_count": 24,
   "metadata": {
    "collapsed": true
   },
   "outputs": [],
   "source": [
    "# Load collisions\n",
    "\n",
    "# Projected Coords UTM NAD1983 Zone 12N\n",
    "in_sr = arcpy.SpatialReference(26912)\n",
    "\n",
    "_ = arcpy.management.MakeXYEventLayer(collisions_csv,\n",
    "        out_layer='collisions',\n",
    "        in_x_field='Longitude',\n",
    "        in_y_field='Latitude',\n",
    "        spatial_reference=in_sr)\n",
    "\n",
    "# Projected Coords Web Mercator\n",
    "out_sr = arcpy.Describe('centerlines_merged').spatialReference\n",
    "\n",
    "_ = arcpy.management.Project('collisions','collisions_projected',out_sr)"
   ]
  },
  {
   "cell_type": "markdown",
   "metadata": {},
   "source": [
    "## Population Densities"
   ]
  },
  {
   "cell_type": "code",
   "execution_count": 25,
   "metadata": {
    "collapsed": true
   },
   "outputs": [],
   "source": [
    "_ = arcpy.management.CopyFeatures(in_features=population_url,out_feature_class='population')\n",
    "_ = arcpy.management.AddFields('population',[['population_density','Double']])"
   ]
  },
  {
   "cell_type": "code",
   "execution_count": 26,
   "metadata": {},
   "outputs": [
    {
     "name": "stdout",
     "output_type": "stream",
     "text": [
      "['OBJECTID', 'Shape', 'STATEFP10', 'COUNTYFP10', 'TRACTCE10', 'BLOCKCE10', 'GEOID10', 'NAME10', 'FUNCSTAT10', 'ALAND10', 'AWATER10', 'INTPTLAT10', 'INTPTLON10', 'LOGRECNO', 'POP100', 'HU100', 'P0020001', 'P0020002', 'P0020003', 'P0020004', 'P0020005', 'P0020006', 'P0020007', 'P0020008', 'P0020009', 'P0020010', 'MTFCC', 'P0010011', 'P0010012', 'P0010013', 'P0010014', 'MHI', 'TractDashBG', 'Shape_Length', 'Shape_Area', 'population_density']\n"
     ]
    }
   ],
   "source": [
    "print([f.name for f in arcpy.ListFields('population')])"
   ]
  },
  {
   "cell_type": "code",
   "execution_count": 27,
   "metadata": {
    "collapsed": true
   },
   "outputs": [],
   "source": [
    "code_block = \\\n",
    "'''\n",
    "def getDensity(pop,area):\n",
    "    try:\n",
    "        return pop*10000.0/area\n",
    "    except:\n",
    "        return 0.0\n",
    "'''\n",
    "_ = arcpy.management.CalculateField('population','population_density','getDensity(!P0020001!,!Shape_Area!)',code_block=code_block)"
   ]
  },
  {
   "cell_type": "code",
   "execution_count": 28,
   "metadata": {
    "collapsed": true
   },
   "outputs": [],
   "source": [
    "field_mappings = arcpy.FieldMappings()\n",
    "field_mappings.addTable('centerlines_merged')\n",
    "features_mapping = arcpy.FieldMap()\n",
    "features_mapping.addInputField('population','population_density')\n",
    "field_mappings.addFieldMap(features_mapping)\n",
    "\n",
    "_ = arcpy.analysis.SpatialJoin('centerlines_merged',\n",
    "                               'population',\n",
    "                               'centerlines_merged_with_pop',\n",
    "                               join_type='KEEP_ALL',\n",
    "                               match_option='intersects',\n",
    "                               field_mapping=field_mappings)"
   ]
  },
  {
   "cell_type": "markdown",
   "metadata": {},
   "source": [
    "# Assign Weather Stations to Segments\n",
    "We create the Thiessen polygons for the weather station. Empirical Bayesian Kriging is a extremely powerful interpolation techniques available through the spatial statistics toolbox. A lighter weight, but less accurate option would be to do inverse distance interpolation at each road, but this is ideal and will work."
   ]
  },
  {
   "cell_type": "code",
   "execution_count": 29,
   "metadata": {
    "collapsed": true
   },
   "outputs": [],
   "source": [
    "in_sr = arcpy.SpatialReference(4326)\n",
    "_ = arcpy.management.MakeXYEventLayer(weather_stations_csv,\n",
    "        out_layer='weather_station_eventlayer',\n",
    "        in_x_field='LON',\n",
    "        in_y_field='LAT',\n",
    "        spatial_reference=in_sr)\n",
    "res = arcpy.management.CopyFeatures('weather_station_eventlayer','weather_station_locations',)\n",
    "_ = arcpy.analysis.CreateThiessenPolygons(res,'weather_station_polygons',fields_to_copy='ALL')"
   ]
  },
  {
   "cell_type": "markdown",
   "metadata": {},
   "source": [
    "Merge weather station polygons with the roads."
   ]
  },
  {
   "cell_type": "code",
   "execution_count": 30,
   "metadata": {
    "collapsed": true
   },
   "outputs": [],
   "source": [
    "field_mappings = arcpy.FieldMappings()\n",
    "field_mappings.addTable('centerlines_merged_with_pop')\n",
    "features_mapping = arcpy.FieldMap()\n",
    "features_mapping.addInputField('weather_station_polygons','station_id')\n",
    "field_mappings.addFieldMap(features_mapping)\n",
    "\n",
    "_ = arcpy.analysis.SpatialJoin('centerlines_merged_with_pop',\n",
    "                               'weather_station_polygons',\n",
    "                               'centerlines_merged_with_weather',\n",
    "                               join_type='KEEP_ALL',\n",
    "                               match_option='closest',\n",
    "                               search_radius='100 miles',\n",
    "                               field_mapping=field_mappings)\n"
   ]
  },
  {
   "cell_type": "markdown",
   "metadata": {},
   "source": [
    "If the event that you'd like to try inverse distance weighting, this is a table of the 5 nearest weather stations to each road segment. "
   ]
  },
  {
   "cell_type": "code",
   "execution_count": 31,
   "metadata": {},
   "outputs": [
    {
     "data": {
      "text/plain": [
       "<Result './utah.gdb\\\\closest_weather_stations'>"
      ]
     },
     "execution_count": 31,
     "metadata": {},
     "output_type": "execute_result"
    }
   ],
   "source": [
    "_ = arcpy.analysis.GenerateNearTable('centerlines_merged',\n",
    "                                     'weather_station_locations',\n",
    "                                     'closest_weather_stations',\n",
    "                                     closest=False,\n",
    "                                     closest_count=5)\n",
    "arcpy.management.AlterField(_,'IN_FID','segment_id',clear_field_alias=True)\n",
    "arcpy.management.AlterField(_,'NEAR_FID','station_id',clear_field_alias=True)\n",
    "arcpy.management.AlterField(_,'NEAR_DIST','distance',clear_field_alias=True)\n",
    "arcpy.management.AlterField(_,'NEAR_RANK','rank',clear_field_alias=True)"
   ]
  },
  {
   "cell_type": "markdown",
   "metadata": {},
   "source": [
    "Finally, this is the \"static features\" dataset that will be used over and over again, joined with realtime feeds to produce accident risk predictions"
   ]
  },
  {
   "cell_type": "code",
   "execution_count": 32,
   "metadata": {
    "collapsed": true
   },
   "outputs": [],
   "source": [
    "_ = arcpy.management.CopyFeatures('centerlines_merged_with_weather','static_features')"
   ]
  },
  {
   "cell_type": "markdown",
   "metadata": {},
   "source": [
    "# Finish Building Trainset\n",
    "This is part of building the training set. We join our accident records to the road so that we have a set of static features for each record. This will be used for training our model."
   ]
  },
  {
   "cell_type": "code",
   "execution_count": 33,
   "metadata": {
    "collapsed": true
   },
   "outputs": [],
   "source": [
    "field_mappings = arcpy.FieldMappings()\n",
    "field_mappings.addTable('collisions_projected')\n",
    "\n",
    "features_mapping = arcpy.FieldMap()\n",
    "features_mapping.addInputField('static_features','segment_id')\n",
    "field_mappings.addFieldMap(features_mapping)\n",
    "\n",
    "_ = arcpy.analysis.SpatialJoin('collisions_projected',\n",
    "                               'static_features',\n",
    "                               'collisions_joined',\n",
    "                               join_type='KEEP_COMMON', # Right join\n",
    "                               match_option='closest',\n",
    "                               search_radius='50 feet',\n",
    "                               field_mapping=field_mappings)"
   ]
  }
 ],
 "metadata": {
  "kernelspec": {
   "display_name": "Python 3",
   "language": "python",
   "name": "python3"
  },
  "language_info": {
   "codemirror_mode": {
    "name": "ipython",
    "version": 3
   },
   "file_extension": ".py",
   "mimetype": "text/x-python",
   "name": "python",
   "nbconvert_exporter": "python",
   "pygments_lexer": "ipython3",
   "version": "3.7.6"
  }
 },
 "nbformat": 4,
 "nbformat_minor": 2
}

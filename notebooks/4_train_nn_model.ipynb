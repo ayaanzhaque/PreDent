{
 "cells": [
  {
   "cell_type": "markdown",
   "metadata": {},
   "source": [
    "# Nueral Network Model\n",
    "\n",
    "We will be using a neural network for this model, built with Keras.\n",
    "\n",
    "The training set was created by pulling hourly weather data, creating a static feature dataset (which don't change over time) and collecting negative labelled data.\n",
    "Now that the training set has been created, we can train the model, but first we need to transform some of the variables to make it better suited for training."
   ]
  },
  {
   "cell_type": "code",
   "execution_count": 32,
   "metadata": {},
   "outputs": [],
   "source": [
    "import pandas as pd\n",
    "import pickle\n",
    "import numpy as np\n",
    "import h5py\n",
    "from keras.models import Sequential, Model\n",
    "from keras.layers import Dense, Dropout, Input, Add\n",
    "from keras.callbacks import TensorBoard, EarlyStopping\n",
    "from keras.optimizers import RMSprop, Adagrad, Adam\n",
    "from keras.utils import plot_model\n",
    "from keras.losses import binary_crossentropy\n",
    "import keras.backend as K\n",
    "import numpy\n",
    "# fix random seed for reproducibility\n",
    "numpy.random.seed(7)\n",
    "\n",
    "from sklearn.preprocessing import OneHotEncoder, StandardScaler\n",
    "from sklearn.model_selection import train_test_split, GridSearchCV, StratifiedKFold, KFold,StratifiedShuffleSplit\n",
    "from sklearn.metrics import f1_score, accuracy_score, precision_score, recall_score,roc_auc_score, roc_curve, average_precision_score,precision_recall_curve\n",
    "import matplotlib.pyplot as plt\n",
    "%matplotlib inline"
   ]
  },
  {
   "cell_type": "code",
   "execution_count": null,
   "metadata": {},
   "outputs": [],
   "source": [
    "# Load the training set\n",
    "df = pd.read_csv('data/utah_training_set.csv').drop(columns=['fid','index','join_key'],errors='ignore')\n",
    "df = df.dropna(how='any',axis=0)"
   ]
  },
  {
   "cell_type": "code",
   "execution_count": 55,
   "metadata": {},
   "outputs": [],
   "source": [
    "ohe_fields=['one_way','surface_type','hour','weekday','month']\n",
    "df_ohe = pd.get_dummies(df,columns=ohe_fields)"
   ]
  },
  {
   "cell_type": "markdown",
   "metadata": {},
   "source": [
    "# Continuous Features\n",
    "Our dataset contains these specific continous features.\n",
    "* Historical Accident Count\n",
    "* Speed Limit (if available)\n",
    "* Sinuosity (Road curavture metric)\n",
    "* AADT (Annual Average Daily Traffic, if available)\n",
    "* Road Surface Width (If available)\n",
    "* Precipitation Depth\n",
    "* Snow Depth\n",
    "* Temperature\n",
    "* Visibility\n",
    "* Wind Speed\n",
    "* Road Orientation\n",
    "* Solar Azimuth\n",
    "* Solar Elevation"
   ]
  },
  {
   "cell_type": "code",
   "execution_count": 56,
   "metadata": {},
   "outputs": [],
   "source": [
    "feature_transforms = {\n",
    "    'sinuosity': np.log\n",
    "}\n",
    "for feature,transform in feature_transforms.items():\n",
    "    df_ohe[feature] = transform(df_ohe[feature])"
   ]
  },
  {
   "cell_type": "code",
   "execution_count": 57,
   "metadata": {},
   "outputs": [],
   "source": [
    "float_feature_names = [\n",
    "    'accident_counts',\n",
    "    'speed_limit',\n",
    "    'aadt',\n",
    "    'surface_width',\n",
    "    'sinuosity',\n",
    "    'euclidean_length',\n",
    "    'segment_length',\n",
    "    'road_orient_approx',\n",
    "    'precip_depth',\n",
    "    'snow_depth',\n",
    "    'temperature',\n",
    "    'visibility',\n",
    "    'wind_speed'\n",
    "]\n",
    "float_features = df_ohe.xs(float_feature_names,axis=1).values\n",
    "\n",
    "scaler = StandardScaler()\n",
    "'''\n",
    "# Not using sklearn's scaler because I have a bunch of missing data and was feeling lazy. :)\n",
    "mean_float = np.nanmean(float_features,axis=0)\n",
    "std_float = np.nanstd(float_features,axis=0)\n",
    "\n",
    "float_scaled = (float_features - mean_float) / std_float\n",
    "'''\n",
    "float_scaled = scaler.fit_transform(float_features)\n",
    "\n",
    "for i,fname in enumerate(float_feature_names):\n",
    "    df_ohe[fname] = float_scaled[:,i]\n",
    "\n",
    "with open('scalers.pkl','wb') as fp:\n",
    "    pickle.dump(scaler,fp)\n"
   ]
  },
  {
   "cell_type": "code",
   "execution_count": 58,
   "metadata": {},
   "outputs": [],
   "source": [
    "y = df['target'].values\n",
    "drop_columns = ['index',\n",
    "                'join_key',\n",
    "                'segment_id',\n",
    "                'station_id',\n",
    "                'timestamp',\n",
    "                'target',\n",
    "                'fid',\n",
    "                'COFIPS',\n",
    "                'street_type',\n",
    "                'pre_dir',\n",
    "                'surface_type',\n",
    "                'suf_dir']\n",
    "df_ohe = df_ohe.drop(columns=drop_columns,errors='ignore')"
   ]
  },
  {
   "cell_type": "code",
   "execution_count": 59,
   "metadata": {},
   "outputs": [],
   "source": [
    "X = df_ohe.values\n",
    "y = df['target'].values"
   ]
  },
  {
   "cell_type": "code",
   "execution_count": 60,
   "metadata": {},
   "outputs": [
    {
     "data": {
      "text/plain": [
       "76"
      ]
     },
     "execution_count": 60,
     "metadata": {},
     "output_type": "execute_result"
    }
   ],
   "source": [
    "feature_names = df_ohe.columns.tolist()\n",
    "len(feature_names)"
   ]
  },
  {
   "cell_type": "code",
   "execution_count": 61,
   "metadata": {},
   "outputs": [
    {
     "name": "stdout",
     "output_type": "stream",
     "text": [
      "['speed_limit', 'surface_width', 'aadt', 'sinuosity', 'euclidean_length', 'segment_length', 'near_major_road', 'road_orient_approx', 'at_intersection', 'near_billboard', 'accident_counts', 'wind_speed', 'visibility', 'temperature', 'precip_depth', 'snow_depth', 'snowing', 'raining', 'foggy', 'icy', 'hailing', 'thunderstorm', 'one_way_0', 'one_way_1', 'one_way_2', 'surface_type_ ', 'surface_type_100', 'surface_type_200', 'surface_type_300', 'surface_type_DIRT', 'surface_type_IMPROVED', 'surface_type_OTHER', 'surface_type_PAVED', 'hour_0', 'hour_1', 'hour_2', 'hour_3', 'hour_4', 'hour_5', 'hour_6', 'hour_7', 'hour_8', 'hour_9', 'hour_10', 'hour_11', 'hour_12', 'hour_13', 'hour_14', 'hour_15', 'hour_16', 'hour_17', 'hour_18', 'hour_19', 'hour_20', 'hour_21', 'hour_22', 'hour_23', 'weekday_0', 'weekday_1', 'weekday_2', 'weekday_3', 'weekday_4', 'weekday_5', 'weekday_6', 'month_1', 'month_2', 'month_3', 'month_4', 'month_5', 'month_6', 'month_7', 'month_8', 'month_9', 'month_10', 'month_11', 'month_12']\n"
     ]
    }
   ],
   "source": [
    "print(feature_names)"
   ]
  },
  {
   "cell_type": "code",
   "execution_count": 62,
   "metadata": {},
   "outputs": [],
   "source": [
    "wrangler = {\n",
    "    'scaler': scaler,\n",
    "    'float_feature_names': float_feature_names,\n",
    "    'drop_columns': drop_columns,\n",
    "    'ohe_fields': ohe_fields,\n",
    "    'feature_names': feature_names,\n",
    "    'feature_transforms': feature_transforms \n",
    "}\n",
    "with open('wrangler_nn.pkl','wb') as fp:\n",
    "    pickle.dump(wrangler,fp)"
   ]
  },
  {
   "cell_type": "markdown",
   "metadata": {},
   "source": [
    "## Define Model\n",
    "We will now define our neural netowrk with different layers. We decided to use the relu activation function. "
   ]
  },
  {
   "cell_type": "code",
   "execution_count": 63,
   "metadata": {},
   "outputs": [],
   "source": [
    "# create model\n",
    "model = Sequential()\n",
    "model.add(Dense(25, input_dim=X.shape[1], activation='relu'))\n",
    "model.add(Dropout(0.5))\n",
    "model.add(Dense(25, activation='relu'))\n",
    "model.add(Dropout(0.5))\n",
    "model.add(Dense(25, activation='relu'))\n",
    "model.add(Dropout(0.5))\n",
    "model.add(Dense(25, activation='relu'))\n",
    "model.add(Dropout(0.5))\n",
    "model.add(Dense(15, activation='relu'))\n",
    "model.add(Dropout(0.5))\n",
    "model.add(Dense(1, activation='sigmoid'))"
   ]
  },
  {
   "cell_type": "code",
   "execution_count": 64,
   "metadata": {},
   "outputs": [],
   "source": [
    "main_input = Input((X.shape[1],),name='input')\n",
    "\n",
    "dense_00 = Dense(X.shape[1], activation='relu')(main_input)\n",
    "add_00 = Add(name='add_input_1')([dense_00, main_input])\n",
    "dropout_00 = Dropout(0.1)(add_00)\n",
    "dense_01 = Dense(X.shape[1], activation='relu')(dropout_00)\n",
    "add_01 = Add(name='add_input_2')([dense_01, main_input])\n",
    "dropout_01 = Dropout(0.1)(add_01)\n",
    "dense_02 = Dense(X.shape[1], activation='relu')(dropout_01)\n",
    "add_02 = Add(name='add_input_3')([dense_02, main_input])\n",
    "dropout_02 = Dropout(0.1)(add_02)\n",
    "dense_03 = Dense(X.shape[1], activation='relu')(dropout_02)\n",
    "add_03 = Add(name='add_input_4')([dense_03, main_input])\n",
    "dropout_03 = Dropout(0.1)(add_03)\n",
    "dense_04 = Dense(X.shape[1], activation='relu')(dropout_03)\n",
    "add_04 = Add()([dense_04, main_input])\n",
    "dropout_04 = Dropout(0.1)(add_04)\n",
    "dense_05 = Dense(50,activation='relu')(dropout_04)\n",
    "dense_06 = Dense(25,activation='relu')(dense_05)\n",
    "dense_07 = Dense(15,activation='relu')(dense_06)\n",
    "output = Dense(1,activation='sigmoid')(dense_07)\n",
    "\n",
    "model = Model(inputs=[main_input],outputs=[output])"
   ]
  },
  {
   "cell_type": "markdown",
   "metadata": {},
   "source": [
    "### Define Hyperparemeters\n",
    "We will use the Adam Optimizer for this model and we will use BCE as our loss because it is a binary classification model."
   ]
  },
  {
   "cell_type": "code",
   "execution_count": 65,
   "metadata": {},
   "outputs": [],
   "source": [
    "optimizer = Adam(lr = 0.001)\n",
    "model.compile(loss='binary_crossentropy', optimizer=optimizer)"
   ]
  },
  {
   "cell_type": "code",
   "execution_count": 66,
   "metadata": {},
   "outputs": [
    {
     "name": "stdout",
     "output_type": "stream",
     "text": [
      "Train on 1774046 samples, validate on 197117 samples\n",
      "Epoch 1/150\n",
      "1774046/1774046 [==============================] - 6s 3us/step - loss: 0.1091 - val_loss: 0.5010\n",
      "Epoch 2/150\n",
      "1774046/1774046 [==============================] - 5s 3us/step - loss: 0.0998 - val_loss: 0.4889\n",
      "Epoch 3/150\n",
      "1774046/1774046 [==============================] - 5s 3us/step - loss: 0.0980 - val_loss: 0.4832\n",
      "Epoch 4/150\n",
      "1774046/1774046 [==============================] - 5s 3us/step - loss: 0.0970 - val_loss: 0.4793\n",
      "Epoch 5/150\n",
      "1774046/1774046 [==============================] - 5s 3us/step - loss: 0.0963 - val_loss: 0.4756\n",
      "Epoch 6/150\n",
      "1774046/1774046 [==============================] - 5s 3us/step - loss: 0.0956 - val_loss: 0.4727\n",
      "Epoch 7/150\n",
      "1774046/1774046 [==============================] - 5s 3us/step - loss: 0.0950 - val_loss: 0.4698\n",
      "Epoch 8/150\n",
      "1774046/1774046 [==============================] - 5s 3us/step - loss: 0.0946 - val_loss: 0.4679\n",
      "Epoch 9/150\n",
      "1774046/1774046 [==============================] - 5s 3us/step - loss: 0.0942 - val_loss: 0.4665\n",
      "Epoch 10/150\n",
      "1774046/1774046 [==============================] - 5s 3us/step - loss: 0.0939 - val_loss: 0.4658\n",
      "Epoch 11/150\n",
      "1774046/1774046 [==============================] - 5s 3us/step - loss: 0.0937 - val_loss: 0.4648\n",
      "Epoch 12/150\n",
      "1774046/1774046 [==============================] - 5s 3us/step - loss: 0.0936 - val_loss: 0.4642\n",
      "Epoch 13/150\n",
      "1774046/1774046 [==============================] - 5s 3us/step - loss: 0.0934 - val_loss: 0.4637\n",
      "Epoch 14/150\n",
      "1774046/1774046 [==============================] - 5s 3us/step - loss: 0.0933 - val_loss: 0.4629\n",
      "Epoch 15/150\n",
      "1774046/1774046 [==============================] - 5s 3us/step - loss: 0.0932 - val_loss: 0.4629\n",
      "Epoch 16/150\n",
      "1774046/1774046 [==============================] - 5s 3us/step - loss: 0.0931 - val_loss: 0.4625\n",
      "Epoch 17/150\n",
      "1774046/1774046 [==============================] - 5s 3us/step - loss: 0.0930 - val_loss: 0.4616\n",
      "Epoch 18/150\n",
      "1774046/1774046 [==============================] - 5s 3us/step - loss: 0.0929 - val_loss: 0.4616\n",
      "Epoch 19/150\n",
      "1774046/1774046 [==============================] - 5s 3us/step - loss: 0.0928 - val_loss: 0.4611\n",
      "Epoch 20/150\n",
      "1774046/1774046 [==============================] - 5s 3us/step - loss: 0.0927 - val_loss: 0.4610\n",
      "Epoch 21/150\n",
      "1774046/1774046 [==============================] - 5s 3us/step - loss: 0.0926 - val_loss: 0.4600\n",
      "Epoch 22/150\n",
      "1774046/1774046 [==============================] - 5s 3us/step - loss: 0.0925 - val_loss: 0.4600\n",
      "Epoch 23/150\n",
      "1774046/1774046 [==============================] - 5s 3us/step - loss: 0.0925 - val_loss: 0.4595\n",
      "Epoch 24/150\n",
      "1774046/1774046 [==============================] - 5s 3us/step - loss: 0.0924 - val_loss: 0.4592\n",
      "Epoch 25/150\n",
      "1774046/1774046 [==============================] - 5s 3us/step - loss: 0.0923 - val_loss: 0.4588\n",
      "Epoch 26/150\n",
      "1774046/1774046 [==============================] - 5s 3us/step - loss: 0.0922 - val_loss: 0.4588\n",
      "Epoch 27/150\n",
      "1774046/1774046 [==============================] - 5s 3us/step - loss: 0.0922 - val_loss: 0.4581\n",
      "Epoch 28/150\n",
      "1774046/1774046 [==============================] - 5s 3us/step - loss: 0.0921 - val_loss: 0.4579\n",
      "Epoch 29/150\n",
      "1774046/1774046 [==============================] - 6s 3us/step - loss: 0.0920 - val_loss: 0.4577\n",
      "Epoch 30/150\n",
      "1774046/1774046 [==============================] - 6s 3us/step - loss: 0.0920 - val_loss: 0.4577\n",
      "Epoch 31/150\n",
      "1774046/1774046 [==============================] - 5s 3us/step - loss: 0.0919 - val_loss: 0.4570\n",
      "Epoch 32/150\n",
      "1774046/1774046 [==============================] - 5s 3us/step - loss: 0.0919 - val_loss: 0.4565\n",
      "Epoch 33/150\n",
      "1774046/1774046 [==============================] - 5s 3us/step - loss: 0.0918 - val_loss: 0.4562\n",
      "Epoch 34/150\n",
      "1774046/1774046 [==============================] - 5s 3us/step - loss: 0.0918 - val_loss: 0.4562\n",
      "Epoch 35/150\n",
      "1774046/1774046 [==============================] - 5s 3us/step - loss: 0.0917 - val_loss: 0.4555\n",
      "Epoch 36/150\n",
      "1774046/1774046 [==============================] - 5s 3us/step - loss: 0.0916 - val_loss: 0.4553\n",
      "Epoch 37/150\n",
      "1774046/1774046 [==============================] - 5s 3us/step - loss: 0.0916 - val_loss: 0.4550\n",
      "Epoch 38/150\n",
      "1774046/1774046 [==============================] - 5s 3us/step - loss: 0.0915 - val_loss: 0.4548\n",
      "Epoch 39/150\n",
      "1774046/1774046 [==============================] - 5s 3us/step - loss: 0.0915 - val_loss: 0.4543\n",
      "Epoch 40/150\n",
      "1774046/1774046 [==============================] - 5s 3us/step - loss: 0.0914 - val_loss: 0.4541\n",
      "Epoch 41/150\n",
      "1774046/1774046 [==============================] - 5s 3us/step - loss: 0.0914 - val_loss: 0.4540\n",
      "Epoch 42/150\n",
      "1774046/1774046 [==============================] - 5s 3us/step - loss: 0.0913 - val_loss: 0.4538\n",
      "Epoch 43/150\n",
      "1774046/1774046 [==============================] - 5s 3us/step - loss: 0.0912 - val_loss: 0.4534\n",
      "Epoch 44/150\n",
      "1774046/1774046 [==============================] - 5s 3us/step - loss: 0.0912 - val_loss: 0.4533\n",
      "Epoch 45/150\n",
      "1774046/1774046 [==============================] - 5s 3us/step - loss: 0.0912 - val_loss: 0.4529\n",
      "Epoch 46/150\n",
      "1774046/1774046 [==============================] - 5s 3us/step - loss: 0.0911 - val_loss: 0.4528\n",
      "Epoch 47/150\n",
      "1774046/1774046 [==============================] - 5s 3us/step - loss: 0.0911 - val_loss: 0.4522\n",
      "Epoch 48/150\n",
      "1774046/1774046 [==============================] - 5s 3us/step - loss: 0.0910 - val_loss: 0.4520\n",
      "Epoch 49/150\n",
      "1774046/1774046 [==============================] - 5s 3us/step - loss: 0.0910 - val_loss: 0.4521\n",
      "Epoch 50/150\n",
      "1774046/1774046 [==============================] - 5s 3us/step - loss: 0.0909 - val_loss: 0.4513\n",
      "Epoch 51/150\n",
      "1774046/1774046 [==============================] - 5s 3us/step - loss: 0.0909 - val_loss: 0.4511\n",
      "Epoch 52/150\n",
      "1774046/1774046 [==============================] - 5s 3us/step - loss: 0.0908 - val_loss: 0.4511\n",
      "Epoch 53/150\n",
      "1774046/1774046 [==============================] - 5s 3us/step - loss: 0.0908 - val_loss: 0.4507\n",
      "Epoch 54/150\n",
      "1774046/1774046 [==============================] - 5s 3us/step - loss: 0.0907 - val_loss: 0.4505\n",
      "Epoch 55/150\n",
      "1774046/1774046 [==============================] - 5s 3us/step - loss: 0.0907 - val_loss: 0.4502\n",
      "Epoch 56/150\n",
      "1774046/1774046 [==============================] - 5s 3us/step - loss: 0.0906 - val_loss: 0.4497\n",
      "Epoch 57/150\n",
      "1774046/1774046 [==============================] - 5s 3us/step - loss: 0.0906 - val_loss: 0.4495\n",
      "Epoch 58/150\n",
      "1774046/1774046 [==============================] - 5s 3us/step - loss: 0.0905 - val_loss: 0.4494\n",
      "Epoch 59/150\n",
      "1774046/1774046 [==============================] - 5s 3us/step - loss: 0.0905 - val_loss: 0.4492\n",
      "Epoch 60/150\n",
      "1774046/1774046 [==============================] - 5s 3us/step - loss: 0.0904 - val_loss: 0.4488\n",
      "Epoch 61/150\n",
      "1774046/1774046 [==============================] - 5s 3us/step - loss: 0.0904 - val_loss: 0.4483\n",
      "Epoch 62/150\n",
      "1774046/1774046 [==============================] - 5s 3us/step - loss: 0.0903 - val_loss: 0.4478\n",
      "Epoch 63/150\n",
      "1774046/1774046 [==============================] - 5s 3us/step - loss: 0.0903 - val_loss: 0.4477\n",
      "Epoch 64/150\n",
      "1774046/1774046 [==============================] - 5s 3us/step - loss: 0.0902 - val_loss: 0.4474\n",
      "Epoch 65/150\n",
      "1774046/1774046 [==============================] - 5s 3us/step - loss: 0.0902 - val_loss: 0.4475\n",
      "Epoch 66/150\n",
      "1774046/1774046 [==============================] - 5s 3us/step - loss: 0.0901 - val_loss: 0.4469\n",
      "Epoch 67/150\n",
      "1774046/1774046 [==============================] - 5s 3us/step - loss: 0.0901 - val_loss: 0.4468\n",
      "Epoch 68/150\n",
      "1774046/1774046 [==============================] - 5s 3us/step - loss: 0.0900 - val_loss: 0.4462\n",
      "Epoch 69/150\n",
      "1774046/1774046 [==============================] - 5s 3us/step - loss: 0.0900 - val_loss: 0.4458\n",
      "Epoch 70/150\n",
      "1774046/1774046 [==============================] - 5s 3us/step - loss: 0.0899 - val_loss: 0.4459\n",
      "Epoch 71/150\n",
      "1774046/1774046 [==============================] - 5s 3us/step - loss: 0.0899 - val_loss: 0.4460\n",
      "Epoch 72/150\n",
      "1774046/1774046 [==============================] - 5s 3us/step - loss: 0.0898 - val_loss: 0.4457\n",
      "Epoch 73/150\n",
      "1774046/1774046 [==============================] - 6s 3us/step - loss: 0.0898 - val_loss: 0.4451\n",
      "Epoch 74/150\n",
      "1774046/1774046 [==============================] - 6s 3us/step - loss: 0.0897 - val_loss: 0.4444\n",
      "Epoch 75/150\n"
     ]
    },
    {
     "name": "stdout",
     "output_type": "stream",
     "text": [
      "1774046/1774046 [==============================] - 5s 3us/step - loss: 0.0897 - val_loss: 0.4460\n",
      "Epoch 76/150\n",
      "1774046/1774046 [==============================] - 6s 3us/step - loss: 0.0896 - val_loss: 0.4441\n",
      "Epoch 77/150\n",
      "1774046/1774046 [==============================] - 6s 3us/step - loss: 0.0896 - val_loss: 0.4436\n",
      "Epoch 78/150\n",
      "1774046/1774046 [==============================] - 6s 3us/step - loss: 0.0895 - val_loss: 0.4438\n",
      "Epoch 79/150\n",
      "1774046/1774046 [==============================] - 6s 3us/step - loss: 0.0896 - val_loss: 0.4435\n",
      "Epoch 80/150\n",
      "1774046/1774046 [==============================] - 5s 3us/step - loss: 0.0894 - val_loss: 0.4426\n",
      "Epoch 81/150\n",
      "1774046/1774046 [==============================] - 5s 3us/step - loss: 0.0894 - val_loss: 0.4428\n",
      "Epoch 82/150\n",
      "1774046/1774046 [==============================] - 5s 3us/step - loss: 0.0893 - val_loss: 0.4425\n",
      "Epoch 83/150\n",
      "1774046/1774046 [==============================] - 6s 3us/step - loss: 0.0893 - val_loss: 0.4420\n",
      "Epoch 84/150\n",
      "1774046/1774046 [==============================] - 6s 3us/step - loss: 0.0892 - val_loss: 0.4421\n",
      "Epoch 85/150\n",
      "1774046/1774046 [==============================] - 6s 3us/step - loss: 0.0892 - val_loss: 0.4416\n",
      "Epoch 86/150\n",
      "1774046/1774046 [==============================] - 6s 3us/step - loss: 0.0891 - val_loss: 0.4416\n",
      "Epoch 87/150\n",
      "1774046/1774046 [==============================] - 5s 3us/step - loss: 0.0891 - val_loss: 0.4415\n",
      "Epoch 88/150\n",
      "1774046/1774046 [==============================] - 6s 4us/step - loss: 0.0891 - val_loss: 0.4422\n",
      "Epoch 89/150\n",
      "1774046/1774046 [==============================] - 6s 3us/step - loss: 0.0890 - val_loss: 0.4415\n",
      "Epoch 90/150\n",
      "1774046/1774046 [==============================] - 5s 3us/step - loss: 0.0890 - val_loss: 0.4411\n",
      "Epoch 91/150\n",
      "1774046/1774046 [==============================] - 6s 3us/step - loss: 0.0890 - val_loss: 0.4409\n",
      "Epoch 92/150\n",
      "1774046/1774046 [==============================] - 6s 4us/step - loss: 0.0889 - val_loss: 0.4407\n",
      "Epoch 93/150\n",
      "1774046/1774046 [==============================] - 6s 3us/step - loss: 0.0894 - val_loss: 0.4414\n",
      "Epoch 94/150\n",
      "1774046/1774046 [==============================] - 6s 3us/step - loss: 0.0890 - val_loss: 0.4408\n",
      "Epoch 95/150\n",
      "1774046/1774046 [==============================] - 6s 4us/step - loss: 0.0888 - val_loss: 0.4403\n",
      "Epoch 96/150\n",
      "1774046/1774046 [==============================] - 6s 3us/step - loss: 0.0888 - val_loss: 0.4405\n",
      "Epoch 97/150\n",
      "1774046/1774046 [==============================] - 6s 3us/step - loss: 0.0887 - val_loss: 0.4399\n",
      "Epoch 98/150\n",
      "1774046/1774046 [==============================] - 5s 3us/step - loss: 0.0887 - val_loss: 0.4401\n",
      "Epoch 99/150\n",
      "1774046/1774046 [==============================] - 5s 3us/step - loss: 0.0887 - val_loss: 0.4400\n",
      "Epoch 100/150\n",
      "1774046/1774046 [==============================] - 6s 3us/step - loss: 0.0887 - val_loss: 0.4401\n",
      "Epoch 101/150\n",
      "1774046/1774046 [==============================] - 6s 3us/step - loss: 0.0886 - val_loss: 0.4402\n",
      "Epoch 102/150\n",
      "1774046/1774046 [==============================] - 5s 3us/step - loss: 0.0886 - val_loss: 0.4398\n",
      "Epoch 103/150\n",
      "1774046/1774046 [==============================] - 5s 3us/step - loss: 0.0886 - val_loss: 0.4399\n",
      "Epoch 104/150\n",
      "1774046/1774046 [==============================] - 5s 3us/step - loss: 0.0886 - val_loss: 0.4395\n",
      "Epoch 105/150\n",
      "1774046/1774046 [==============================] - 5s 3us/step - loss: 0.0885 - val_loss: 0.4396\n",
      "Epoch 106/150\n",
      "1774046/1774046 [==============================] - 6s 3us/step - loss: 0.0885 - val_loss: 0.4396\n",
      "Epoch 107/150\n",
      "1774046/1774046 [==============================] - 6s 4us/step - loss: 0.0885 - val_loss: 0.4397\n",
      "Epoch 108/150\n",
      "1774046/1774046 [==============================] - 5s 3us/step - loss: 0.0885 - val_loss: 0.4393\n",
      "Epoch 109/150\n",
      "1774046/1774046 [==============================] - 5s 3us/step - loss: 0.0885 - val_loss: 0.4393\n",
      "Epoch 110/150\n",
      "1774046/1774046 [==============================] - 5s 3us/step - loss: 0.0885 - val_loss: 0.4397\n",
      "Epoch 111/150\n",
      "1774046/1774046 [==============================] - 5s 3us/step - loss: 0.0885 - val_loss: 0.4394\n",
      "Epoch 112/150\n",
      "1774046/1774046 [==============================] - 5s 3us/step - loss: 0.0884 - val_loss: 0.4392\n",
      "Epoch 113/150\n",
      "1774046/1774046 [==============================] - 5s 3us/step - loss: 0.0884 - val_loss: 0.4392\n",
      "Epoch 114/150\n",
      "1774046/1774046 [==============================] - 5s 3us/step - loss: 0.0883 - val_loss: 0.4391\n",
      "Epoch 115/150\n",
      "1774046/1774046 [==============================] - 6s 3us/step - loss: 0.0884 - val_loss: 0.4398\n",
      "Epoch 116/150\n",
      "1774046/1774046 [==============================] - 5s 3us/step - loss: 0.0884 - val_loss: 0.4390\n",
      "Epoch 117/150\n",
      "1774046/1774046 [==============================] - 5s 3us/step - loss: 0.0883 - val_loss: 0.4390\n",
      "Epoch 118/150\n",
      "1774046/1774046 [==============================] - 6s 3us/step - loss: 0.0883 - val_loss: 0.4389\n",
      "Epoch 119/150\n",
      "1774046/1774046 [==============================] - 5s 3us/step - loss: 0.0883 - val_loss: 0.4388\n",
      "Epoch 120/150\n",
      "1774046/1774046 [==============================] - 5s 3us/step - loss: 0.0883 - val_loss: 0.4390\n",
      "Epoch 121/150\n",
      "1774046/1774046 [==============================] - 7s 4us/step - loss: 0.0883 - val_loss: 0.4387\n",
      "Epoch 122/150\n",
      "1774046/1774046 [==============================] - 6s 3us/step - loss: 0.0883 - val_loss: 0.4387\n",
      "Epoch 123/150\n",
      "1774046/1774046 [==============================] - 7s 4us/step - loss: 0.0883 - val_loss: 0.4388\n",
      "Epoch 124/150\n",
      "1774046/1774046 [==============================] - 5s 3us/step - loss: 0.0882 - val_loss: 0.4386\n",
      "Epoch 125/150\n",
      "1774046/1774046 [==============================] - 5s 3us/step - loss: 0.0882 - val_loss: 0.4385\n",
      "Epoch 126/150\n",
      "1774046/1774046 [==============================] - 5s 3us/step - loss: 0.0882 - val_loss: 0.4385\n",
      "Epoch 127/150\n",
      "1774046/1774046 [==============================] - 5s 3us/step - loss: 0.0882 - val_loss: 0.4385\n",
      "Epoch 128/150\n",
      "1774046/1774046 [==============================] - 5s 3us/step - loss: 0.0882 - val_loss: 0.4386\n",
      "Epoch 129/150\n",
      "1774046/1774046 [==============================] - 5s 3us/step - loss: 0.0881 - val_loss: 0.4384\n",
      "Epoch 130/150\n",
      "1774046/1774046 [==============================] - 6s 3us/step - loss: 0.0882 - val_loss: 0.4388\n",
      "Epoch 131/150\n",
      "1774046/1774046 [==============================] - 5s 3us/step - loss: 0.0882 - val_loss: 0.4387\n",
      "Epoch 132/150\n",
      "1774046/1774046 [==============================] - 5s 3us/step - loss: 0.0881 - val_loss: 0.4384\n",
      "Epoch 133/150\n",
      "1774046/1774046 [==============================] - 5s 3us/step - loss: 0.0881 - val_loss: 0.4385\n",
      "Epoch 134/150\n",
      "1774046/1774046 [==============================] - 5s 3us/step - loss: 0.0881 - val_loss: 0.4386\n",
      "Epoch 135/150\n",
      "1774046/1774046 [==============================] - 5s 3us/step - loss: 0.0881 - val_loss: 0.4386\n",
      "Epoch 136/150\n",
      "1774046/1774046 [==============================] - 6s 3us/step - loss: 0.0880 - val_loss: 0.4386\n",
      "Epoch 137/150\n",
      "1774046/1774046 [==============================] - 5s 3us/step - loss: 0.0881 - val_loss: 0.4382\n",
      "Epoch 138/150\n",
      "1774046/1774046 [==============================] - 5s 3us/step - loss: 0.0880 - val_loss: 0.4382\n",
      "Epoch 139/150\n",
      "1774046/1774046 [==============================] - 5s 3us/step - loss: 0.0880 - val_loss: 0.4385\n",
      "Epoch 140/150\n",
      "1774046/1774046 [==============================] - 6s 3us/step - loss: 0.0880 - val_loss: 0.4385\n",
      "Epoch 141/150\n",
      "1774046/1774046 [==============================] - 5s 3us/step - loss: 0.0880 - val_loss: 0.4382\n",
      "Epoch 142/150\n",
      "1774046/1774046 [==============================] - 5s 3us/step - loss: 0.0880 - val_loss: 0.4383\n",
      "Epoch 143/150\n",
      "1774046/1774046 [==============================] - 5s 3us/step - loss: 0.0880 - val_loss: 0.4379\n",
      "Epoch 144/150\n",
      "1774046/1774046 [==============================] - 5s 3us/step - loss: 0.0880 - val_loss: 0.4386\n",
      "Epoch 145/150\n",
      "1774046/1774046 [==============================] - 5s 3us/step - loss: 0.0880 - val_loss: 0.4384\n",
      "Epoch 146/150\n",
      "1774046/1774046 [==============================] - 5s 3us/step - loss: 0.0880 - val_loss: 0.4382\n",
      "Epoch 147/150\n",
      "1774046/1774046 [==============================] - 5s 3us/step - loss: 0.0879 - val_loss: 0.4380\n",
      "Epoch 148/150\n",
      "1774046/1774046 [==============================] - 5s 3us/step - loss: 0.0879 - val_loss: 0.4386\n",
      "Epoch 149/150\n",
      "1774046/1774046 [==============================] - 5s 3us/step - loss: 0.0879 - val_loss: 0.4380\n",
      "Epoch 150/150\n",
      "1774046/1774046 [==============================] - 5s 3us/step - loss: 0.0879 - val_loss: 0.4383\n"
     ]
    },
    {
     "data": {
      "text/plain": [
       "<keras.callbacks.History at 0x1ebbcd6fd30>"
      ]
     },
     "execution_count": 66,
     "metadata": {},
     "output_type": "execute_result"
    }
   ],
   "source": [
    "X_train, X_test, y_train, y_test = train_test_split(X, y, test_size=0.1)\n",
    "\n",
    "from time import time\n",
    "\n",
    "tensorboard = TensorBoard(log_dir=\"logs/{}\".format(time()))\n",
    "early_stopping = EarlyStopping(monitor='val_loss', min_delta=0, patience=30, verbose=0, mode='auto')\n",
    "\n",
    "sample_weight = ((4.0*y_train > 0) + 1.0*(y_train == 0))/5.0\n",
    "\n",
    "model.fit(X_train, y_train,\n",
    "          validation_data=(X_test,y_test), \n",
    "          epochs=150, \n",
    "          verbose=1, \n",
    "          shuffle=True,\n",
    "          batch_size=100000, \n",
    "          sample_weight = sample_weight,\n",
    "          callbacks=[tensorboard,early_stopping])"
   ]
  },
  {
   "cell_type": "markdown",
   "metadata": {},
   "source": [
    "Since this clearly is a massive training process, I used AI-Fabric from UIPath. It made the process a lot faster, and I was able to train a few more times because of it."
   ]
  },
  {
   "cell_type": "code",
   "execution_count": 67,
   "metadata": {},
   "outputs": [],
   "source": [
    "model.save('logloss2.h5')"
   ]
  },
  {
   "cell_type": "code",
   "execution_count": 68,
   "metadata": {},
   "outputs": [],
   "source": [
    "y_pred = model.predict(X_test)"
   ]
  },
  {
   "cell_type": "code",
   "execution_count": 69,
   "metadata": {},
   "outputs": [
    {
     "name": "stdout",
     "output_type": "stream",
     "text": [
      "Test Accuracy: 0.43640071632583693\n",
      "Test F1: 0.4177441418021918\n",
      "Test Precision: 0.2649888626616576\n",
      "Test AP: 0.2641676426623615\n",
      "Test Recall: 0.9863139137751818\n",
      "Test AUC: 0.7290560052691666\n"
     ]
    }
   ],
   "source": [
    "ypt = y_pred>0.1\n",
    "'''\n",
    "print ('Test Accuracy:',accuracy_score(y,ypt))\n",
    "print ('Test F1:',f1_score(y,ypt))\n",
    "print ('Test Precision:',precision_score(y,ypt))\n",
    "print ('Test AP:',average_precision_score(y,ypt))\n",
    "print ('Test Recall:',recall_score(y,ypt))\n",
    "print ('Test AUC:',roc_auc_score(y,y_pred))\n",
    "'''\n",
    "#'''\n",
    "print ('Test Accuracy:',accuracy_score(y_test,ypt))\n",
    "print ('Test F1:',f1_score(y_test,ypt))\n",
    "print ('Test Precision:',precision_score(y_test,ypt))\n",
    "print ('Test AP:',average_precision_score(y_test,ypt))\n",
    "print ('Test Recall:',recall_score(y_test,ypt))\n",
    "print ('Test AUC:',roc_auc_score(y_test,y_pred))\n",
    "#'''"
   ]
  },
  {
   "cell_type": "code",
   "execution_count": 70,
   "metadata": {},
   "outputs": [
    {
     "data": {
      "text/plain": [
       "<matplotlib.legend.Legend at 0x1ebd3a6c668>"
      ]
     },
     "execution_count": 70,
     "metadata": {},
     "output_type": "execute_result"
    },
    {
     "data": {
      "image/png": "[encoded data removed]",
      "text/plain": [
       "<matplotlib.figure.Figure at 0x1ebd436a0f0>"
      ]
     },
     "metadata": {},
     "output_type": "display_data"
    }
   ],
   "source": [
    "precision,recall,thresholds = precision_recall_curve(y_test,y_pred)\n",
    "#precision,recall,thresholds = precision_recall_curve(y,y_pred)\n",
    "\n",
    "plt.plot(thresholds,precision[:-1],'r-',label='P (DNN)',color='orange',lw=3)\n",
    "plt.plot(thresholds,recall[:-1],'r-',label='R (DNN)',color='steelblue',lw=3)\n",
    "plt.gca().set_xbound(lower=0,upper=1)\n",
    "plt.grid()\n",
    "plt.legend()"
   ]
  },
  {
   "cell_type": "code",
   "execution_count": 71,
   "metadata": {},
   "outputs": [
    {
     "data": {
      "text/plain": [
       "<matplotlib.legend.Legend at 0x1ebd3a2d828>"
      ]
     },
     "execution_count": 71,
     "metadata": {},
     "output_type": "execute_result"
    },
    {
     "data": {
      "text/plain": [
       "<matplotlib.figure.Figure at 0x1ebd4338128>"
      ]
     },
     "metadata": {},
     "output_type": "display_data"
    },
    {
     "data": {
      "image/png": "[encoded data removed]",
      "text/plain": [
       "<matplotlib.figure.Figure at 0x1ebd43389e8>"
      ]
     },
     "metadata": {},
     "output_type": "display_data"
    }
   ],
   "source": [
    "plt.figure(figsize=(15,15))\n",
    "\n",
    "precision,recall,thresholds = precision_recall_curve(y_test,y_pred)\n",
    "#precision,recall,thresholds = precision_recall_curve(y,y_pred)\n",
    "\n",
    "fig,ax = plt.subplots()\n",
    "plt.plot(precision,recall,label='Precision vs Recall',lw=3)\n",
    "\n",
    "ax.set_xbound(lower=0.0,upper=1.0)\n",
    "ax.set_ybound(lower=0.01,upper=1.0)\n",
    "plt.grid()\n",
    "plt.legend()"
   ]
  },
  {
   "cell_type": "code",
   "execution_count": 72,
   "metadata": {},
   "outputs": [
    {
     "data": {
      "text/plain": [
       "(array([3.3275e+04, 2.4500e+03, 1.4490e+03, 1.8270e+03, 2.0940e+03,\n",
       "        2.2950e+03, 2.4990e+03, 2.9250e+03, 3.2780e+03, 3.3740e+03,\n",
       "        3.4750e+03, 3.6210e+03, 4.0570e+03, 4.8090e+03, 5.5360e+03,\n",
       "        7.1390e+03, 8.5320e+03, 9.2400e+03, 9.2940e+03, 9.0170e+03,\n",
       "        9.0050e+03, 8.6960e+03, 8.6470e+03, 8.5780e+03, 8.7220e+03,\n",
       "        7.6870e+03, 6.2790e+03, 5.2590e+03, 3.7730e+03, 2.7450e+03,\n",
       "        1.8350e+03, 1.3450e+03, 1.0870e+03, 7.5800e+02, 5.7100e+02,\n",
       "        4.3900e+02, 3.4800e+02, 2.4300e+02, 1.6700e+02, 1.8100e+02,\n",
       "        1.5500e+02, 1.1100e+02, 1.0900e+02, 8.1000e+01, 4.6000e+01,\n",
       "        2.9000e+01, 1.3000e+01, 1.6000e+01, 2.0000e+00, 4.0000e+00]),\n",
       " array([3.08848513e-07, 1.37267433e-02, 2.74531778e-02, 4.11796123e-02,\n",
       "        5.49060468e-02, 6.86324813e-02, 8.23589158e-02, 9.60853503e-02,\n",
       "        1.09811785e-01, 1.23538219e-01, 1.37264654e-01, 1.50991088e-01,\n",
       "        1.64717523e-01, 1.78443957e-01, 1.92170392e-01, 2.05896826e-01,\n",
       "        2.19623261e-01, 2.33349695e-01, 2.47076130e-01, 2.60802564e-01,\n",
       "        2.74528999e-01, 2.88255433e-01, 3.01981868e-01, 3.15708302e-01,\n",
       "        3.29434737e-01, 3.43161171e-01, 3.56887606e-01, 3.70614040e-01,\n",
       "        3.84340475e-01, 3.98066909e-01, 4.11793344e-01, 4.25519778e-01,\n",
       "        4.39246213e-01, 4.52972647e-01, 4.66699082e-01, 4.80425516e-01,\n",
       "        4.94151951e-01, 5.07878385e-01, 5.21604820e-01, 5.35331254e-01,\n",
       "        5.49057688e-01, 5.62784123e-01, 5.76510557e-01, 5.90236992e-01,\n",
       "        6.03963426e-01, 6.17689861e-01, 6.31416295e-01, 6.45142730e-01,\n",
       "        6.58869164e-01, 6.72595599e-01, 6.86322033e-01]),\n",
       " <a list of 50 Patch objects>)"
      ]
     },
     "execution_count": 72,
     "metadata": {},
     "output_type": "execute_result"
    },
    {
     "data": {
      "image/png": "[encoded data removed]",
      "text/plain": [
       "<matplotlib.figure.Figure at 0x1ebc683e550>"
      ]
     },
     "metadata": {},
     "output_type": "display_data"
    }
   ],
   "source": [
    "plt.figure()\n",
    "plt.hist(y_pred,50)"
   ]
  }
 ],
 "metadata": {
  "kernelspec": {
   "display_name": "Python 3",
   "language": "python",
   "name": "python3"
  },
  "language_info": {
   "codemirror_mode": {
    "name": "ipython",
    "version": 3
   },
   "file_extension": ".py",
   "mimetype": "text/x-python",
   "name": "python",
   "nbconvert_exporter": "python",
   "pygments_lexer": "ipython3",
   "version": "3.8.3"
  }
 },
 "nbformat": 4,
 "nbformat_minor": 2
}

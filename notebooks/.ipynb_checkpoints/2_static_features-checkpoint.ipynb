{
 "cells": [
  {
   "cell_type": "markdown",
   "metadata": {},
   "source": [
    "# Prepare Static Features\n",
    "In addition to weather, and potential other dynamic data feeds, this notebook computes the static features. These include information about the roads that doesn't change very often. This is mostly things like the shape of the road, the population density around the road, locations of intersections, etc.\n",
    "\n",
    "Asides from weather, we also need "
   ]
  },
  {
   "cell_type": "code",
   "execution_count": null,
   "metadata": {},
   "outputs": [],
   "source": [
    "import arcgis\n",
    "import os"
   ]
  },
  {
   "cell_type": "markdown",
   "metadata": {},
   "source": [
    "We will start by creating our gdb."
   ]
  },
  {
   "cell_type": "code",
   "execution_count": 2,
   "metadata": {
    "collapsed": true
   },
   "outputs": [],
   "source": [
    "if not os.path.exists('utah.gdb'):\n",
    "    arcpy.management.CreateFileGDB('.','utah.gdb')\n",
    "\n",
    "# workspace\n",
    "arcpy.env.workspace = r'./utah.gdb'\n",
    "arcpy.env.overwriteOutput = True"
   ]
  },
  {
   "cell_type": "markdown",
   "metadata": {},
   "source": [
    "### Define URLs and Datasets"
   ]
  },
  {
   "cell_type": "code",
   "execution_count": 3,
   "metadata": {
    "collapsed": true
   },
   "outputs": [],
   "source": [
    "aadt_url = 'https://services1.arcgis.com/MdyCMZnX1raZ7TS3/arcgis/rest/services/Utah_AADT_2013/FeatureServer/0'\n",
    "intersections_url = 'https://maps.udot.utah.gov/arcgis/rest/services/FI_Mandli2012/MapServer/5'\n",
    "billboards_url = 'https://maps.udot.utah.gov/arcgis/rest/services/FI_Mandli2012/MapServer/2'\n",
    "signals_url = 'https://maps.udot.utah.gov/arcgis/rest/services/FI_Mandli2012/MapServer/14'\n",
    "\n",
    "population_url = 'http://services2.arcgis.com/gyfpgFh2Wj2gglYD/arcgis/rest/services/Census2010/FeatureServer/1'\n",
    "\n",
    "collisions_csv = r'Utah crashes_2010-2017.csv'\n",
    "weather_stations_csv = 'utah_stations.csv'\n",
    "\n",
    "# Roads data\n",
    "major_roads = 'http://services1.arcgis.com/99lidPhWCzftIe9K/arcgis/rest/services/Utah_Major_Road_Centerlines_(Statewide)/FeatureServer/0'\n",
    "minor_roads = 'http://services1.arcgis.com/99lidPhWCzftIe9K/arcgis/rest/services/Utah_SGID_Road_Centerlines_(Statewide)/FeatureServer/0'"
   ]
  },
  {
   "cell_type": "markdown",
   "metadata": {},
   "source": [
    "### Copy the road features into GDB"
   ]
  },
  {
   "cell_type": "code",
   "execution_count": 4,
   "metadata": {
    "collapsed": true
   },
   "outputs": [],
   "source": [
    "# add road centerlines\n",
    "_ = arcpy.management.CopyFeatures(in_features=major_roads,out_feature_class='centerlines')"
   ]
  },
  {
   "cell_type": "code",
   "execution_count": 5,
   "metadata": {
    "collapsed": true
   },
   "outputs": [],
   "source": [
    "# connect centerlines to other road segments\n",
    "_ = arcpy.analysis.SpatialJoin('centerlines',\n",
    "                           aadt_url,\n",
    "                           'centerlines_aadt',\n",
    "                           match_option='closest',\n",
    "                           search_radius='200 feet')"
   ]
  },
  {
   "cell_type": "code",
   "execution_count": 6,
   "metadata": {
    "collapsed": true
   },
   "outputs": [],
   "source": [
    "# Delete identical roads. Sometimes the roads have the exact same polyline, keeping these will lower the accuracy of the model\n",
    "# And there isn't really a distinction anyway.\n",
    "_ = arcpy.management.DeleteIdentical('centerlines_aadt',xy_tolerance='1 feet',fields=['SHAPE'])"
   ]
  },
  {
   "cell_type": "code",
   "execution_count": 7,
   "metadata": {
    "collapsed": true
   },
   "outputs": [],
   "source": [
    "# Rename some fields for convenience\n",
    "_ = arcpy.management.DeleteField('centerlines_aadt',['route_id','Shape_Leng','OBJECTID_12'])\n",
    "_ = arcpy.management.AlterField('centerlines_aadt','aadt_vn','aadt',clear_field_alias=True)"
   ]
  },
  {
   "cell_type": "markdown",
   "metadata": {},
   "source": [
    "# Merge major/minor roads"
   ]
  },
  {
   "cell_type": "code",
   "execution_count": 8,
   "metadata": {
    "collapsed": true
   },
   "outputs": [],
   "source": [
    "# Merge minor roads. We seperate these steps because we don't have AADT for minor roads.\n",
    "_ = arcpy.management.Merge(['centerlines_aadt',minor_roads],'centerlines_merged')"
   ]
  },
  {
   "cell_type": "markdown",
   "metadata": {},
   "source": [
    "# Rename/Delete Fields\n",
    "For consistancy, readabiliy of the Python code, let's rename some of the fields and delete ones we don't care about"
   ]
  },
  {
   "cell_type": "code",
   "execution_count": 9,
   "metadata": {},
   "outputs": [
    {
     "name": "stdout",
     "output_type": "stream",
     "text": [
      "['OBJECTID_1', 'Shape', 'Join_Count', 'TARGET_FID', 'OBJECTID', 'ADDR_SYS', 'CARTOCODE', 'FULLNAME', 'L_F_ADD', 'L_T_ADD', 'R_F_ADD', 'R_T_ADD', 'PREDIR', 'STREETNAME', 'STREETTYPE', 'SUFDIR', 'ALIAS1', 'ALIAS1TYPE', 'ALIAS2', 'ALIAS2TYPE', 'ACSALIAS', 'ACSNAME', 'ACSSUF', 'ADDR_QUAD', 'USPS_PLACE', 'ZIPLEFT', 'ZIPRIGHT', 'COFIPS', 'ONEWAY', 'SPEED', 'VERTLEVEL', 'CLASS', 'HWYNAME', 'DOT_RTNAME', 'DOT_RTPART', 'DOT_F_MILE', 'DOT_T_MILE', 'MODIFYDATE', 'GLOBALID', 'COLLDATE', 'ACCURACY', 'SOURCE', 'NOTES', 'COUNIQUE', 'SURFTYPE', 'SURFWIDTH', 'DSTRBWIDTH', 'LOCALFUNC', 'MAINTJURIS', 'FED_RDID', 'STATUS', 'ACCESS', 'USAGENOTES', 'DOT_RTID', 'DOT_FUNC', 'DOT_COFUND', 'LOCALID', 'aadt', 'Shape_Length']\n"
     ]
    }
   ],
   "source": [
    "print([f.name for f in arcpy.ListFields('centerlines_merged')])"
   ]
  },
  {
   "cell_type": "code",
   "execution_count": 10,
   "metadata": {
    "collapsed": true
   },
   "outputs": [],
   "source": [
    "# Fields we don't need in the centerlines dataset for this\n",
    "delete_fields = [\n",
    "    'ADDR_SYS',\n",
    "    'CARTOCODE',\n",
    "    'FULLNAME',\n",
    "    'L_F_ADD',\n",
    "    'L_T_ADD',\n",
    "    'R_F_ADD',\n",
    "    'R_T_ADD',\n",
    "    'STREETNAME',\n",
    "    'ALIAS1',\n",
    "    'ALIAS1TYPE',\n",
    "    'ALIAS2',\n",
    "    'ALIAS2TYPE',\n",
    "    'ACSALIAS',\n",
    "    'ACSNAME',\n",
    "    'ACSSUF',\n",
    "    'ADDR_QUAD',\n",
    "    'USPS_PLACE', \n",
    "    'ZIPLEFT', \n",
    "    'ZIPRIGHT', \n",
    "    'COFIPS',\n",
    "    'VERTLEVEL', \n",
    "    'CLASS', \n",
    "    'HWYNAME', \n",
    "    'DOT_RTNAME',\n",
    "    'DOT_RTPART',\n",
    "    'DOT_F_MILE', \n",
    "    'DOT_T_MILE', \n",
    "    'MODIFYDATE',\n",
    "    'GLOBALID', \n",
    "    'COLLDATE', \n",
    "    'ACCURACY', \n",
    "    'SOURCE', \n",
    "    'NOTES', \n",
    "    'COUNIQUE', \n",
    "    'DSTRBWIDTH', \n",
    "    'LOCALFUNC',\n",
    "    'MAINTJURIS', \n",
    "    'FED_RDID', \n",
    "    'STATUS', \n",
    "    'ACCESS', \n",
    "    'USAGENOTES',\n",
    "    'DOT_RTID',\n",
    "    'DOT_FUNC', \n",
    "    'DOT_COFUND',\n",
    "    'LOCALID'\n",
    "]\n",
    "field_remap = {\n",
    "    'PREDIR':'pre_dir',\n",
    "    'STREETTYPE':'street_type',\n",
    "    'SUFDIR':'suf_dir',\n",
    "    'ONEWAY':'one_way',\n",
    "    'SPEED':'speed_limit',\n",
    "    'SURFTYPE':'surface_type',\n",
    "    'SURFWIDTH':'surface_width'\n",
    "}\n",
    "_ = arcpy.management.DeleteField('centerlines_merged',delete_fields)\n",
    "for field_name,remap_name in field_remap.items():\n",
    "    arcpy.management.AlterField('centerlines_merged',field_name,remap_name,clear_field_alias=True)"
   ]
  },
  {
   "cell_type": "code",
   "execution_count": 11,
   "metadata": {},
   "outputs": [
    {
     "name": "stdout",
     "output_type": "stream",
     "text": [
      "['OBJECTID_1', 'Shape', 'Join_Count', 'TARGET_FID', 'OBJECTID', 'pre_dir', 'street_type', 'suf_dir', 'one_way', 'speed_limit', 'surface_type', 'surface_width', 'aadt', 'Shape_Length']\n"
     ]
    }
   ],
   "source": [
    "print([f.name for f in arcpy.ListFields('centerlines_merged')])"
   ]
  },
  {
   "cell_type": "markdown",
   "metadata": {},
   "source": [
    "We will reference *segment_id* as the unique identifier for a road segment"
   ]
  },
  {
   "cell_type": "code",
   "execution_count": 12,
   "metadata": {
    "collapsed": true
   },
   "outputs": [],
   "source": [
    "# Add a segment_id field to use instead of OBJECTID_1\n",
    "_ = arcpy.management.AddField('centerlines_merged','segment_id','Long')\n",
    "_ = arcpy.management.CalculateField('centerlines_merged','segment_id','!OBJECTID_1!')"
   ]
  },
  {
   "cell_type": "markdown",
   "metadata": {},
   "source": [
    "# Road Segment Spatial Features\n",
    "There are several fields to add to the data to enrich. Some will be calculated off of the geometries, some off of proximity to features in other datasets"
   ]
  }
 ],
 "metadata": {
  "kernelspec": {
   "display_name": "Python 3",
   "language": "python",
   "name": "python3"
  },
  "language_info": {
   "codemirror_mode": {
    "name": "ipython",
    "version": 3
   },
   "file_extension": ".py",
   "mimetype": "text/x-python",
   "name": "python",
   "nbconvert_exporter": "python",
   "pygments_lexer": "ipython3",
   "version": "3.7.6"
  }
 },
 "nbformat": 4,
 "nbformat_minor": 2
}
